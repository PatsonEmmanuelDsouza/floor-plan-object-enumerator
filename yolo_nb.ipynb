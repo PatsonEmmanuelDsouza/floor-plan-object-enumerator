{
 "cells": [
  {
   "cell_type": "code",
   "execution_count": 21,
   "id": "3e5b4f51",
   "metadata": {},
   "outputs": [],
   "source": [
    "import torch\n",
    "from ultralytics import YOLO"
   ]
  },
  {
   "cell_type": "code",
   "execution_count": null,
   "id": "8f716d8f",
   "metadata": {},
   "outputs": [
    {
     "name": "stdout",
     "output_type": "stream",
     "text": [
      "MPS available: True\n",
      "MPS built: True\n"
     ]
    }
   ],
   "source": [
    "# check if access to GPU is enabled\n",
    "print(\"MPS available:\", torch.backends.mps.is_available())\n",
    "print(\"MPS built:\", torch.backends.mps.is_built())"
   ]
  },
  {
   "cell_type": "code",
   "execution_count": 5,
   "id": "a8a3214b",
   "metadata": {},
   "outputs": [
    {
     "name": "stdout",
     "output_type": "stream",
     "text": [
      "\u001b[KDownloading https://github.com/ultralytics/assets/releases/download/v8.3.0/yolov8n.pt to 'yolov8n.pt': 100% ━━━━━━━━━━━━ 6.2MB 10.6MB/s 0.6s.5s<0.1s.6s\n"
     ]
    }
   ],
   "source": [
    "# loading pretrained yolov8nano\n",
    "model = YOLO(\"yolov8n.pt\")"
   ]
  },
  {
   "cell_type": "code",
   "execution_count": null,
   "id": "44b2086d",
   "metadata": {},
   "outputs": [
    {
     "name": "stdout",
     "output_type": "stream",
     "text": [
      "Ultralytics 8.3.203 🚀 Python-3.12.11 torch-2.8.0 MPS (Apple M3 Pro)\n",
      "\u001b[34m\u001b[1mengine/trainer: \u001b[0magnostic_nms=False, amp=True, augment=False, auto_augment=randaugment, batch=16, bgr=0.0, box=7.5, cache=False, cfg=None, classes=None, close_mosaic=10, cls=0.5, compile=False, conf=None, copy_paste=0.0, copy_paste_mode=flip, cos_lr=False, cutmix=0.0, data=data.yaml, degrees=0.0, deterministic=True, device=mps, dfl=1.5, dnn=False, dropout=0.0, dynamic=False, embed=None, epochs=10, erasing=0.4, exist_ok=False, fliplr=0.5, flipud=0.0, format=torchscript, fraction=1.0, freeze=None, half=False, hsv_h=0.015, hsv_s=0.7, hsv_v=0.4, imgsz=640, int8=False, iou=0.7, keras=False, kobj=1.0, line_width=None, lr0=0.01, lrf=0.01, mask_ratio=4, max_det=300, mixup=0.0, mode=train, model=yolov8n.pt, momentum=0.937, mosaic=1.0, multi_scale=False, name=train2, nbs=64, nms=False, opset=None, optimize=False, optimizer=auto, overlap_mask=True, patience=100, perspective=0.0, plots=True, pose=12.0, pretrained=True, profile=False, project=None, rect=False, resume=False, retina_masks=False, save=True, save_conf=False, save_crop=False, save_dir=/Users/patsondsouza/myStuff/LTD/floor-plan object enumerator/runs/detect/train2, save_frames=False, save_json=False, save_period=-1, save_txt=False, scale=0.5, seed=0, shear=0.0, show=False, show_boxes=True, show_conf=True, show_labels=True, simplify=True, single_cls=False, source=None, split=val, stream_buffer=False, task=detect, time=None, tracker=botsort.yaml, translate=0.1, val=False, verbose=True, vid_stride=1, visualize=False, warmup_bias_lr=0.1, warmup_epochs=3.0, warmup_momentum=0.8, weight_decay=0.0005, workers=8, workspace=None\n",
      "\n",
      "                   from  n    params  module                                       arguments                     \n",
      "  0                  -1  1       464  ultralytics.nn.modules.conv.Conv             [3, 16, 3, 2]                 \n",
      "  1                  -1  1      4672  ultralytics.nn.modules.conv.Conv             [16, 32, 3, 2]                \n",
      "  2                  -1  1      7360  ultralytics.nn.modules.block.C2f             [32, 32, 1, True]             \n",
      "  3                  -1  1     18560  ultralytics.nn.modules.conv.Conv             [32, 64, 3, 2]                \n",
      "  4                  -1  2     49664  ultralytics.nn.modules.block.C2f             [64, 64, 2, True]             \n",
      "  5                  -1  1     73984  ultralytics.nn.modules.conv.Conv             [64, 128, 3, 2]               \n",
      "  6                  -1  2    197632  ultralytics.nn.modules.block.C2f             [128, 128, 2, True]           \n",
      "  7                  -1  1    295424  ultralytics.nn.modules.conv.Conv             [128, 256, 3, 2]              \n",
      "  8                  -1  1    460288  ultralytics.nn.modules.block.C2f             [256, 256, 1, True]           \n",
      "  9                  -1  1    164608  ultralytics.nn.modules.block.SPPF            [256, 256, 5]                 \n",
      " 10                  -1  1         0  torch.nn.modules.upsampling.Upsample         [None, 2, 'nearest']          \n",
      " 11             [-1, 6]  1         0  ultralytics.nn.modules.conv.Concat           [1]                           \n",
      " 12                  -1  1    148224  ultralytics.nn.modules.block.C2f             [384, 128, 1]                 \n",
      " 13                  -1  1         0  torch.nn.modules.upsampling.Upsample         [None, 2, 'nearest']          \n",
      " 14             [-1, 4]  1         0  ultralytics.nn.modules.conv.Concat           [1]                           \n",
      " 15                  -1  1     37248  ultralytics.nn.modules.block.C2f             [192, 64, 1]                  \n",
      " 16                  -1  1     36992  ultralytics.nn.modules.conv.Conv             [64, 64, 3, 2]                \n",
      " 17            [-1, 12]  1         0  ultralytics.nn.modules.conv.Concat           [1]                           \n",
      " 18                  -1  1    123648  ultralytics.nn.modules.block.C2f             [192, 128, 1]                 \n",
      " 19                  -1  1    147712  ultralytics.nn.modules.conv.Conv             [128, 128, 3, 2]              \n",
      " 20             [-1, 9]  1         0  ultralytics.nn.modules.conv.Concat           [1]                           \n",
      " 21                  -1  1    493056  ultralytics.nn.modules.block.C2f             [384, 256, 1]                 \n",
      " 22        [15, 18, 21]  1    753652  ultralytics.nn.modules.head.Detect           [12, [64, 128, 256]]          \n",
      "Model summary: 129 layers, 3,013,188 parameters, 3,013,172 gradients, 8.2 GFLOPs\n",
      "\n",
      "Transferred 355/355 items from pretrained weights\n",
      "Freezing layer 'model.22.dfl.conv.weight'\n",
      "\u001b[34m\u001b[1mtrain: \u001b[0mFast image access ✅ (ping: 0.0±0.0 ms, read: 301.9±383.4 MB/s, size: 34.1 KB)\n",
      "\u001b[K\u001b[34m\u001b[1mtrain: \u001b[0mScanning /Users/patsondsouza/myStuff/LTD/floor-plan object enumerator/new_images/labels/train... 23 images, 0 backgrounds, 0 corrupt: 100% ━━━━━━━━━━━━ 23/23 2.3Kit/s 0.0s\n",
      "\u001b[34m\u001b[1mtrain: \u001b[0mNew cache created: /Users/patsondsouza/myStuff/LTD/floor-plan object enumerator/new_images/labels/train.cache\n",
      "\u001b[34m\u001b[1mval: \u001b[0mFast image access ✅ (ping: 0.0±0.0 ms, read: 530.9±343.6 MB/s, size: 50.2 KB)\n",
      "\u001b[K\u001b[34m\u001b[1mval: \u001b[0mScanning /Users/patsondsouza/myStuff/LTD/floor-plan object enumerator/new_images/labels/val... 6 images, 0 backgrounds, 0 corrupt: 100% ━━━━━━━━━━━━ 6/6 3.9Kit/s 0.0s\n",
      "\u001b[34m\u001b[1mval: \u001b[0mNew cache created: /Users/patsondsouza/myStuff/LTD/floor-plan object enumerator/new_images/labels/val.cache\n",
      "Plotting labels to /Users/patsondsouza/myStuff/LTD/floor-plan object enumerator/runs/detect/train2/labels.jpg... \n",
      "\u001b[34m\u001b[1moptimizer:\u001b[0m 'optimizer=auto' found, ignoring 'lr0=0.01' and 'momentum=0.937' and determining best 'optimizer', 'lr0' and 'momentum' automatically... \n",
      "\u001b[34m\u001b[1moptimizer:\u001b[0m AdamW(lr=0.000625, momentum=0.9) with parameter groups 57 weight(decay=0.0), 64 weight(decay=0.0005), 63 bias(decay=0.0)\n",
      "Image sizes 640 train, 640 val\n",
      "Using 0 dataloader workers\n",
      "Logging results to \u001b[1m/Users/patsondsouza/myStuff/LTD/floor-plan object enumerator/runs/detect/train2\u001b[0m\n",
      "Starting training for 10 epochs...\n",
      "Closing dataloader mosaic\n",
      "\n",
      "      Epoch    GPU_mem   box_loss   cls_loss   dfl_loss  Instances       Size\n",
      "\u001b[K       1/10      5.34G        nan        nan        nan        537        640: 0% ──────────── 0/2  3.2s"
     ]
    },
    {
     "name": "stderr",
     "output_type": "stream",
     "text": [
      "/opt/miniconda3/envs/fp-enum/lib/python3.12/site-packages/ultralytics/utils/plotting.py:784: RuntimeWarning: invalid value encountered in cast\n",
      "  for j, box in enumerate(boxes.astype(np.int64).tolist()):\n"
     ]
    },
    {
     "name": "stdout",
     "output_type": "stream",
     "text": [
      "\u001b[K       1/10      5.35G        nan        nan        nan        212        640: 100% ━━━━━━━━━━━━ 2/2 0.2it/s 11.8s28.8s\n",
      "\n",
      "      Epoch    GPU_mem   box_loss   cls_loss   dfl_loss  Instances       Size\n",
      "\u001b[K       2/10       4.4G        nan        nan        nan        208        640: 100% ━━━━━━━━━━━━ 2/2 0.6it/s 3.2s4.6s\n",
      "\n",
      "      Epoch    GPU_mem   box_loss   cls_loss   dfl_loss  Instances       Size\n",
      "\u001b[K       3/10      4.54G        nan        nan        nan        162        640: 100% ━━━━━━━━━━━━ 2/2 0.4it/s 5.1s7.9s\n",
      "\n",
      "      Epoch    GPU_mem   box_loss   cls_loss   dfl_loss  Instances       Size\n",
      "\u001b[K       4/10      4.61G        nan        nan        nan        199        640: 100% ━━━━━━━━━━━━ 2/2 0.5it/s 4.3s7.7s\n",
      "\n",
      "      Epoch    GPU_mem   box_loss   cls_loss   dfl_loss  Instances       Size\n",
      "\u001b[K       5/10      4.61G        nan        nan        nan        162        640: 100% ━━━━━━━━━━━━ 2/2 0.6it/s 3.3s4.6s\n",
      "\n",
      "      Epoch    GPU_mem   box_loss   cls_loss   dfl_loss  Instances       Size\n",
      "\u001b[K       6/10      5.34G        nan        nan        nan        195        640: 100% ━━━━━━━━━━━━ 2/2 0.4it/s 5.6s9.7s\n",
      "\n",
      "      Epoch    GPU_mem   box_loss   cls_loss   dfl_loss  Instances       Size\n",
      "\u001b[K       7/10       4.4G        nan        nan        nan        220        640: 100% ━━━━━━━━━━━━ 2/2 0.5it/s 4.3s7.9s\n",
      "\n",
      "      Epoch    GPU_mem   box_loss   cls_loss   dfl_loss  Instances       Size\n",
      "\u001b[K       8/10       4.4G        nan        nan        nan        163        640: 100% ━━━━━━━━━━━━ 2/2 0.8it/s 2.5s2.4s\n",
      "\n",
      "      Epoch    GPU_mem   box_loss   cls_loss   dfl_loss  Instances       Size\n",
      "\u001b[K       9/10      4.53G        nan        nan        nan        204        640: 100% ━━━━━━━━━━━━ 2/2 0.5it/s 4.1s7.9s\n",
      "\n",
      "      Epoch    GPU_mem   box_loss   cls_loss   dfl_loss  Instances       Size\n",
      "\u001b[K      10/10      4.34G        nan        nan        nan        316        640: 100% ━━━━━━━━━━━━ 2/2 0.4it/s 5.2s8.2s\n",
      "\u001b[K                 Class     Images  Instances      Box(P          R      mAP50  mAP50-95): 100% ━━━━━━━━━━━━ 1/1 0.1it/s 6.9s\n",
      "                   all          6        203          0          0          0          0\n",
      "\n",
      "10 epochs completed in 0.017 hours.\n",
      "Optimizer stripped from /Users/patsondsouza/myStuff/LTD/floor-plan object enumerator/runs/detect/train2/weights/last.pt, 6.2MB\n",
      "Optimizer stripped from /Users/patsondsouza/myStuff/LTD/floor-plan object enumerator/runs/detect/train2/weights/best.pt, 6.2MB\n",
      "\n",
      "Validating /Users/patsondsouza/myStuff/LTD/floor-plan object enumerator/runs/detect/train2/weights/best.pt...\n",
      "Ultralytics 8.3.203 🚀 Python-3.12.11 torch-2.8.0 MPS (Apple M3 Pro)\n",
      "Model summary (fused): 72 layers, 3,007,988 parameters, 0 gradients, 8.1 GFLOPs\n",
      "\u001b[K                 Class     Images  Instances      Box(P          R      mAP50  mAP50-95): 0% ──────────── 0/1  1.4s\n"
     ]
    },
    {
     "ename": "IndexError",
     "evalue": "index 55205 is out of bounds for axis 1 with size 13",
     "output_type": "error",
     "traceback": [
      "\u001b[31m---------------------------------------------------------------------------\u001b[39m",
      "\u001b[31mIndexError\u001b[39m                                Traceback (most recent call last)",
      "\u001b[36mCell\u001b[39m\u001b[36m \u001b[39m\u001b[32mIn[23]\u001b[39m\u001b[32m, line 1\u001b[39m\n\u001b[32m----> \u001b[39m\u001b[32m1\u001b[39m \u001b[43mmodel\u001b[49m\u001b[43m.\u001b[49m\u001b[43mtrain\u001b[49m\u001b[43m(\u001b[49m\n\u001b[32m      2\u001b[39m \u001b[43m    \u001b[49m\u001b[43mdata\u001b[49m\u001b[43m=\u001b[49m\u001b[33;43m\"\u001b[39;49m\u001b[33;43mdata.yaml\u001b[39;49m\u001b[33;43m\"\u001b[39;49m\u001b[43m,\u001b[49m\n\u001b[32m      3\u001b[39m \u001b[43m    \u001b[49m\u001b[43mepochs\u001b[49m\u001b[43m=\u001b[49m\u001b[32;43m10\u001b[39;49m\u001b[43m,\u001b[49m\n\u001b[32m      4\u001b[39m \u001b[43m    \u001b[49m\u001b[43mimgsz\u001b[49m\u001b[43m=\u001b[49m\u001b[32;43m640\u001b[39;49m\u001b[43m,\u001b[49m\n\u001b[32m      5\u001b[39m \u001b[43m    \u001b[49m\u001b[43mdevice\u001b[49m\u001b[43m=\u001b[49m\u001b[33;43m\"\u001b[39;49m\u001b[33;43mmps\u001b[39;49m\u001b[33;43m\"\u001b[39;49m\u001b[43m,\u001b[49m\n\u001b[32m      6\u001b[39m \u001b[43m    \u001b[49m\u001b[43maugment\u001b[49m\u001b[43m=\u001b[49m\u001b[38;5;28;43;01mFalse\u001b[39;49;00m\u001b[43m,\u001b[49m\n\u001b[32m      7\u001b[39m \u001b[43m    \u001b[49m\u001b[43mval\u001b[49m\u001b[43m \u001b[49m\u001b[43m=\u001b[49m\u001b[43m \u001b[49m\u001b[38;5;28;43;01mFalse\u001b[39;49;00m\n\u001b[32m      8\u001b[39m \u001b[43m)\u001b[49m\n",
      "\u001b[36mFile \u001b[39m\u001b[32m/opt/miniconda3/envs/fp-enum/lib/python3.12/site-packages/ultralytics/engine/model.py:800\u001b[39m, in \u001b[36mModel.train\u001b[39m\u001b[34m(self, trainer, **kwargs)\u001b[39m\n\u001b[32m    797\u001b[39m     \u001b[38;5;28mself\u001b[39m.trainer.model = \u001b[38;5;28mself\u001b[39m.trainer.get_model(weights=\u001b[38;5;28mself\u001b[39m.model \u001b[38;5;28;01mif\u001b[39;00m \u001b[38;5;28mself\u001b[39m.ckpt \u001b[38;5;28;01melse\u001b[39;00m \u001b[38;5;28;01mNone\u001b[39;00m, cfg=\u001b[38;5;28mself\u001b[39m.model.yaml)\n\u001b[32m    798\u001b[39m     \u001b[38;5;28mself\u001b[39m.model = \u001b[38;5;28mself\u001b[39m.trainer.model\n\u001b[32m--> \u001b[39m\u001b[32m800\u001b[39m \u001b[38;5;28;43mself\u001b[39;49m\u001b[43m.\u001b[49m\u001b[43mtrainer\u001b[49m\u001b[43m.\u001b[49m\u001b[43mtrain\u001b[49m\u001b[43m(\u001b[49m\u001b[43m)\u001b[49m\n\u001b[32m    801\u001b[39m \u001b[38;5;66;03m# Update model and cfg after training\u001b[39;00m\n\u001b[32m    802\u001b[39m \u001b[38;5;28;01mif\u001b[39;00m RANK \u001b[38;5;129;01min\u001b[39;00m {-\u001b[32m1\u001b[39m, \u001b[32m0\u001b[39m}:\n",
      "\u001b[36mFile \u001b[39m\u001b[32m/opt/miniconda3/envs/fp-enum/lib/python3.12/site-packages/ultralytics/engine/trainer.py:235\u001b[39m, in \u001b[36mBaseTrainer.train\u001b[39m\u001b[34m(self)\u001b[39m\n\u001b[32m    232\u001b[39m         ddp_cleanup(\u001b[38;5;28mself\u001b[39m, \u001b[38;5;28mstr\u001b[39m(file))\n\u001b[32m    234\u001b[39m \u001b[38;5;28;01melse\u001b[39;00m:\n\u001b[32m--> \u001b[39m\u001b[32m235\u001b[39m     \u001b[38;5;28;43mself\u001b[39;49m\u001b[43m.\u001b[49m\u001b[43m_do_train\u001b[49m\u001b[43m(\u001b[49m\u001b[43m)\u001b[49m\n",
      "\u001b[36mFile \u001b[39m\u001b[32m/opt/miniconda3/envs/fp-enum/lib/python3.12/site-packages/ultralytics/engine/trainer.py:514\u001b[39m, in \u001b[36mBaseTrainer._do_train\u001b[39m\u001b[34m(self)\u001b[39m\n\u001b[32m    512\u001b[39m seconds = time.time() - \u001b[38;5;28mself\u001b[39m.train_time_start\n\u001b[32m    513\u001b[39m LOGGER.info(\u001b[33mf\u001b[39m\u001b[33m\"\u001b[39m\u001b[38;5;130;01m\\n\u001b[39;00m\u001b[38;5;132;01m{\u001b[39;00mepoch\u001b[38;5;250m \u001b[39m-\u001b[38;5;250m \u001b[39m\u001b[38;5;28mself\u001b[39m.start_epoch\u001b[38;5;250m \u001b[39m+\u001b[38;5;250m \u001b[39m\u001b[32m1\u001b[39m\u001b[38;5;132;01m}\u001b[39;00m\u001b[33m epochs completed in \u001b[39m\u001b[38;5;132;01m{\u001b[39;00mseconds\u001b[38;5;250m \u001b[39m/\u001b[38;5;250m \u001b[39m\u001b[32m3600\u001b[39m\u001b[38;5;132;01m:\u001b[39;00m\u001b[33m.3f\u001b[39m\u001b[38;5;132;01m}\u001b[39;00m\u001b[33m hours.\u001b[39m\u001b[33m\"\u001b[39m)\n\u001b[32m--> \u001b[39m\u001b[32m514\u001b[39m \u001b[38;5;28;43mself\u001b[39;49m\u001b[43m.\u001b[49m\u001b[43mfinal_eval\u001b[49m\u001b[43m(\u001b[49m\u001b[43m)\u001b[49m\n\u001b[32m    515\u001b[39m \u001b[38;5;28;01mif\u001b[39;00m \u001b[38;5;28mself\u001b[39m.args.plots:\n\u001b[32m    516\u001b[39m     \u001b[38;5;28mself\u001b[39m.plot_metrics()\n",
      "\u001b[36mFile \u001b[39m\u001b[32m/opt/miniconda3/envs/fp-enum/lib/python3.12/site-packages/ultralytics/engine/trainer.py:774\u001b[39m, in \u001b[36mBaseTrainer.final_eval\u001b[39m\u001b[34m(self)\u001b[39m\n\u001b[32m    772\u001b[39m \u001b[38;5;28mself\u001b[39m.validator.args.plots = \u001b[38;5;28mself\u001b[39m.args.plots\n\u001b[32m    773\u001b[39m \u001b[38;5;28mself\u001b[39m.validator.args.compile = \u001b[38;5;28;01mFalse\u001b[39;00m  \u001b[38;5;66;03m# disable final val compile as too slow\u001b[39;00m\n\u001b[32m--> \u001b[39m\u001b[32m774\u001b[39m \u001b[38;5;28mself\u001b[39m.metrics = \u001b[38;5;28;43mself\u001b[39;49m\u001b[43m.\u001b[49m\u001b[43mvalidator\u001b[49m\u001b[43m(\u001b[49m\u001b[43mmodel\u001b[49m\u001b[43m=\u001b[49m\u001b[43mf\u001b[49m\u001b[43m)\u001b[49m\n\u001b[32m    775\u001b[39m \u001b[38;5;28mself\u001b[39m.metrics.pop(\u001b[33m\"\u001b[39m\u001b[33mfitness\u001b[39m\u001b[33m\"\u001b[39m, \u001b[38;5;28;01mNone\u001b[39;00m)\n\u001b[32m    776\u001b[39m \u001b[38;5;28mself\u001b[39m.run_callbacks(\u001b[33m\"\u001b[39m\u001b[33mon_fit_epoch_end\u001b[39m\u001b[33m\"\u001b[39m)\n",
      "\u001b[36mFile \u001b[39m\u001b[32m/opt/miniconda3/envs/fp-enum/lib/python3.12/site-packages/torch/utils/_contextlib.py:120\u001b[39m, in \u001b[36mcontext_decorator.<locals>.decorate_context\u001b[39m\u001b[34m(*args, **kwargs)\u001b[39m\n\u001b[32m    117\u001b[39m \u001b[38;5;129m@functools\u001b[39m.wraps(func)\n\u001b[32m    118\u001b[39m \u001b[38;5;28;01mdef\u001b[39;00m\u001b[38;5;250m \u001b[39m\u001b[34mdecorate_context\u001b[39m(*args, **kwargs):\n\u001b[32m    119\u001b[39m     \u001b[38;5;28;01mwith\u001b[39;00m ctx_factory():\n\u001b[32m--> \u001b[39m\u001b[32m120\u001b[39m         \u001b[38;5;28;01mreturn\u001b[39;00m \u001b[43mfunc\u001b[49m\u001b[43m(\u001b[49m\u001b[43m*\u001b[49m\u001b[43margs\u001b[49m\u001b[43m,\u001b[49m\u001b[43m \u001b[49m\u001b[43m*\u001b[49m\u001b[43m*\u001b[49m\u001b[43mkwargs\u001b[49m\u001b[43m)\u001b[49m\n",
      "\u001b[36mFile \u001b[39m\u001b[32m/opt/miniconda3/envs/fp-enum/lib/python3.12/site-packages/ultralytics/engine/validator.py:225\u001b[39m, in \u001b[36mBaseValidator.__call__\u001b[39m\u001b[34m(self, trainer, model)\u001b[39m\n\u001b[32m    222\u001b[39m \u001b[38;5;28;01mwith\u001b[39;00m dt[\u001b[32m3\u001b[39m]:\n\u001b[32m    223\u001b[39m     preds = \u001b[38;5;28mself\u001b[39m.postprocess(preds)\n\u001b[32m--> \u001b[39m\u001b[32m225\u001b[39m \u001b[38;5;28;43mself\u001b[39;49m\u001b[43m.\u001b[49m\u001b[43mupdate_metrics\u001b[49m\u001b[43m(\u001b[49m\u001b[43mpreds\u001b[49m\u001b[43m,\u001b[49m\u001b[43m \u001b[49m\u001b[43mbatch\u001b[49m\u001b[43m)\u001b[49m\n\u001b[32m    226\u001b[39m \u001b[38;5;28;01mif\u001b[39;00m \u001b[38;5;28mself\u001b[39m.args.plots \u001b[38;5;129;01mand\u001b[39;00m batch_i < \u001b[32m3\u001b[39m:\n\u001b[32m    227\u001b[39m     \u001b[38;5;28mself\u001b[39m.plot_val_samples(batch, batch_i)\n",
      "\u001b[36mFile \u001b[39m\u001b[32m/opt/miniconda3/envs/fp-enum/lib/python3.12/site-packages/ultralytics/models/yolo/detect/val.py:200\u001b[39m, in \u001b[36mDetectionValidator.update_metrics\u001b[39m\u001b[34m(self, preds, batch)\u001b[39m\n\u001b[32m    198\u001b[39m \u001b[38;5;66;03m# Evaluate\u001b[39;00m\n\u001b[32m    199\u001b[39m \u001b[38;5;28;01mif\u001b[39;00m \u001b[38;5;28mself\u001b[39m.args.plots:\n\u001b[32m--> \u001b[39m\u001b[32m200\u001b[39m     \u001b[38;5;28;43mself\u001b[39;49m\u001b[43m.\u001b[49m\u001b[43mconfusion_matrix\u001b[49m\u001b[43m.\u001b[49m\u001b[43mprocess_batch\u001b[49m\u001b[43m(\u001b[49m\u001b[43mpredn\u001b[49m\u001b[43m,\u001b[49m\u001b[43m \u001b[49m\u001b[43mpbatch\u001b[49m\u001b[43m,\u001b[49m\u001b[43m \u001b[49m\u001b[43mconf\u001b[49m\u001b[43m=\u001b[49m\u001b[38;5;28;43mself\u001b[39;49m\u001b[43m.\u001b[49m\u001b[43margs\u001b[49m\u001b[43m.\u001b[49m\u001b[43mconf\u001b[49m\u001b[43m)\u001b[49m\n\u001b[32m    201\u001b[39m     \u001b[38;5;28;01mif\u001b[39;00m \u001b[38;5;28mself\u001b[39m.args.visualize:\n\u001b[32m    202\u001b[39m         \u001b[38;5;28mself\u001b[39m.confusion_matrix.plot_matches(batch[\u001b[33m\"\u001b[39m\u001b[33mimg\u001b[39m\u001b[33m\"\u001b[39m][si], pbatch[\u001b[33m\"\u001b[39m\u001b[33mim_file\u001b[39m\u001b[33m\"\u001b[39m], \u001b[38;5;28mself\u001b[39m.save_dir)\n",
      "\u001b[36mFile \u001b[39m\u001b[32m/opt/miniconda3/envs/fp-enum/lib/python3.12/site-packages/ultralytics/utils/metrics.py:416\u001b[39m, in \u001b[36mConfusionMatrix.process_batch\u001b[39m\u001b[34m(self, detections, batch, conf, iou_thres)\u001b[39m\n\u001b[32m    414\u001b[39m gt_classes = gt_cls.int().tolist()\n\u001b[32m    415\u001b[39m \u001b[38;5;28;01mfor\u001b[39;00m i, gc \u001b[38;5;129;01min\u001b[39;00m \u001b[38;5;28menumerate\u001b[39m(gt_classes):\n\u001b[32m--> \u001b[39m\u001b[32m416\u001b[39m     \u001b[38;5;28;43mself\u001b[39;49m\u001b[43m.\u001b[49m\u001b[43mmatrix\u001b[49m\u001b[43m[\u001b[49m\u001b[38;5;28;43mself\u001b[39;49m\u001b[43m.\u001b[49m\u001b[43mnc\u001b[49m\u001b[43m,\u001b[49m\u001b[43m \u001b[49m\u001b[43mgc\u001b[49m\u001b[43m]\u001b[49m += \u001b[32m1\u001b[39m  \u001b[38;5;66;03m# FN\u001b[39;00m\n\u001b[32m    417\u001b[39m     \u001b[38;5;28mself\u001b[39m._append_matches(\u001b[33m\"\u001b[39m\u001b[33mFN\u001b[39m\u001b[33m\"\u001b[39m, batch, i)\n\u001b[32m    418\u001b[39m \u001b[38;5;28;01mreturn\u001b[39;00m\n",
      "\u001b[31mIndexError\u001b[39m: index 55205 is out of bounds for axis 1 with size 13"
     ]
    }
   ],
   "source": [
    "model.train(\n",
    "    data=\"data.yaml\",\n",
    "    epochs=10,\n",
    "    imgsz=640,\n",
    "    device=\"mps\",\n",
    "    augment=False,\n",
    "    val = False,\n",
    "    mosaic = 0\n",
    ")"
   ]
  },
  {
   "cell_type": "code",
   "execution_count": 9,
   "id": "0dd42de6",
   "metadata": {},
   "outputs": [
    {
     "name": "stdout",
     "output_type": "stream",
     "text": [
      "Problematic labels: []\n"
     ]
    }
   ],
   "source": [
    "import os\n",
    "\n",
    "label_dir = \"data/labels/train\"\n",
    "\n",
    "bad_files = []\n",
    "num_classes = 12  # you have 0–12\n",
    "\n",
    "for fname in os.listdir(label_dir):\n",
    "    if not fname.endswith(\".txt\"):\n",
    "        continue\n",
    "    with open(os.path.join(label_dir, fname)) as f:\n",
    "        for line in f:\n",
    "            parts = line.strip().split()\n",
    "            if not parts:\n",
    "                continue\n",
    "            cls = int(float(parts[0]))  # first number is class\n",
    "            if cls < 0 or cls >= num_classes:\n",
    "                bad_files.append((fname, cls))\n",
    "\n",
    "print(\"Problematic labels:\", bad_files)\n"
   ]
  },
  {
   "cell_type": "code",
   "execution_count": 11,
   "id": "310294d6",
   "metadata": {},
   "outputs": [
    {
     "name": "stdout",
     "output_type": "stream",
     "text": [
      "✅ No negative class IDs found.\n"
     ]
    }
   ],
   "source": [
    "import os\n",
    "\n",
    "label_dirs = [\"data/labels/train\", \"data/labels/val\", \"data/labels/test\"]\n",
    "\n",
    "bad_entries = []\n",
    "\n",
    "for d in label_dirs:\n",
    "    for fname in os.listdir(d):\n",
    "        if not fname.endswith(\".txt\"):\n",
    "            continue\n",
    "        path = os.path.join(d, fname)\n",
    "        with open(path) as f:\n",
    "            for i, line in enumerate(f, start=1):\n",
    "                parts = line.strip().split()\n",
    "                if not parts:\n",
    "                    continue\n",
    "                try:\n",
    "                    cls = int(float(parts[0]))\n",
    "                except ValueError:\n",
    "                    bad_entries.append((path, i, line.strip()))\n",
    "                    continue\n",
    "                if cls < 0:\n",
    "                    bad_entries.append((path, i, line.strip()))\n",
    "\n",
    "if bad_entries:\n",
    "    print(\"❌ Found invalid class IDs:\")\n",
    "    for entry in bad_entries:\n",
    "        print(entry)\n",
    "else:\n",
    "    print(\"✅ No negative class IDs found.\")\n"
   ]
  },
  {
   "cell_type": "code",
   "execution_count": 12,
   "id": "6b429218",
   "metadata": {},
   "outputs": [
    {
     "name": "stdout",
     "output_type": "stream",
     "text": [
      "Empty label files: []\n"
     ]
    }
   ],
   "source": [
    "import os\n",
    "\n",
    "label_dirs = [\"data/labels/train\", \"data/labels/val\", \"data/labels/test\"]\n",
    "\n",
    "empty_files = []\n",
    "for d in label_dirs:\n",
    "    for f in os.listdir(d):\n",
    "        if f.endswith(\".txt\"):\n",
    "            path = os.path.join(d, f)\n",
    "            if os.path.getsize(path) == 0:\n",
    "                empty_files.append(path)\n",
    "\n",
    "print(\"Empty label files:\", empty_files)\n"
   ]
  },
  {
   "cell_type": "code",
   "execution_count": 13,
   "id": "877ca014",
   "metadata": {},
   "outputs": [
    {
     "name": "stdout",
     "output_type": "stream",
     "text": [
      "Files with wrong format: []\n"
     ]
    }
   ],
   "source": [
    "bad_format = []\n",
    "for d in label_dirs:\n",
    "    for f in os.listdir(d):\n",
    "        if not f.endswith(\".txt\"):\n",
    "            continue\n",
    "        path = os.path.join(d, f)\n",
    "        with open(path) as file:\n",
    "            for i, line in enumerate(file, 1):\n",
    "                parts = line.strip().split()\n",
    "                if len(parts) != 5:\n",
    "                    bad_format.append((path, i, line.strip()))\n",
    "\n",
    "print(\"Files with wrong format:\", bad_format)\n"
   ]
  },
  {
   "cell_type": "code",
   "execution_count": 17,
   "id": "326b0df9",
   "metadata": {},
   "outputs": [
    {
     "name": "stdout",
     "output_type": "stream",
     "text": [
      "Labels with out-of-range class indices: []\n"
     ]
    }
   ],
   "source": [
    "import os\n",
    "\n",
    "label_dirs = [\"data/labels/train\", \"data/labels/val\", \"data/labels/test\"]\n",
    "num_classes = 12  # 0–11\n",
    "\n",
    "bad_labels = []\n",
    "\n",
    "for d in label_dirs:\n",
    "    for f in os.listdir(d):\n",
    "        if not f.endswith(\".txt\"):\n",
    "            continue\n",
    "        path = os.path.join(d, f)\n",
    "        with open(path) as file:\n",
    "            for i, line in enumerate(file, 1):\n",
    "                parts = line.strip().split()\n",
    "                if not parts:\n",
    "                    continue\n",
    "                cls = int(float(parts[0]))\n",
    "                if cls >= num_classes:\n",
    "                    bad_labels.append((path, i, cls))\n",
    "\n",
    "print(\"Labels with out-of-range class indices:\", bad_labels)\n"
   ]
  },
  {
   "cell_type": "code",
   "execution_count": 18,
   "id": "0a594c40",
   "metadata": {},
   "outputs": [
    {
     "name": "stdout",
     "output_type": "stream",
     "text": [
      "✅ All labels cleaned.\n"
     ]
    }
   ],
   "source": [
    "import os\n",
    "\n",
    "# Paths to your label folders\n",
    "label_dirs = [\"data/labels/train\", \"data/labels/val\", \"data/labels/test\"]\n",
    "\n",
    "# Maximum valid class index\n",
    "num_classes = 12  # 0–11\n",
    "\n",
    "# Go through each label file\n",
    "for d in label_dirs:\n",
    "    for f in os.listdir(d):\n",
    "        if not f.endswith(\".txt\"):\n",
    "            continue\n",
    "        path = os.path.join(d, f)\n",
    "        # Read all lines\n",
    "        with open(path, \"r\") as file:\n",
    "            lines = file.readlines()\n",
    "        \n",
    "        # Keep only lines with valid class index\n",
    "        new_lines = []\n",
    "        for line in lines:\n",
    "            if not line.strip():\n",
    "                continue\n",
    "            parts = line.strip().split()\n",
    "            cls = int(float(parts[0]))\n",
    "            if 0 <= cls < num_classes:\n",
    "                new_lines.append(line)\n",
    "            else:\n",
    "                print(f\"Removed invalid class {cls} in {path}\")\n",
    "        \n",
    "        # Overwrite file with cleaned lines\n",
    "        with open(path, \"w\") as file:\n",
    "            file.writelines(new_lines)\n",
    "\n",
    "print(\"✅ All labels cleaned.\")\n"
   ]
  }
 ],
 "metadata": {
  "kernelspec": {
   "display_name": "fp-enum",
   "language": "python",
   "name": "python3"
  },
  "language_info": {
   "codemirror_mode": {
    "name": "ipython",
    "version": 3
   },
   "file_extension": ".py",
   "mimetype": "text/x-python",
   "name": "python",
   "nbconvert_exporter": "python",
   "pygments_lexer": "ipython3",
   "version": "3.12.11"
  }
 },
 "nbformat": 4,
 "nbformat_minor": 5
}
